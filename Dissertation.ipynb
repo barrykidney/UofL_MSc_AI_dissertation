{
 "cells": [
  {
   "cell_type": "code",
   "execution_count": 1,
   "id": "6510641b-1e47-4f91-a2f1-b507abb25038",
   "metadata": {},
   "outputs": [],
   "source": [
    "import math\n",
    "import matplotlib.pyplot as plt\n",
    "import numpy as np\n",
    "import pandas as pd\n",
    "import pickle\n",
    "import warnings\n",
    "import xgboost as xgb\n",
    "\n",
    "from sklearn.model_selection import train_test_split\n",
    "from sklearn.decomposition import PCA\n",
    "from sklearn.linear_model import LogisticRegression\n",
    "from sklearn.model_selection import KFold\n",
    "from sklearn.metrics import accuracy_score, confusion_matrix, precision_score\n",
    "from sklearn.metrics import recall_score, auc, roc_curve, ConfusionMatrixDisplay\n",
    "from sklearn.metrics import roc_auc_score, accuracy_score, classification_report\n",
    "from matplotlib.colors import ListedColormap\n",
    "\n",
    "warnings.simplefilter(action='ignore', category=pd.errors.PerformanceWarning)\n",
    "warnings.simplefilter(action='ignore', category=pd.errors.DtypeWarning)"
   ]
  },
  {
   "cell_type": "markdown",
   "id": "a3b15cb9-86d1-481e-b31c-cb6c58470adb",
   "metadata": {},
   "source": [
    "# **Load and merge datasets**\n",
    "\n",
    "The data is split between two datasets one containing rows with overtakes and overtaken scenarios and another larger dataset with non-scenario rows, describing the vehicle driving without encountering any scenario. Both datasets contain identical columns but they are not in the same order to this must be fixed before the datasets can be merged."
   ]
  },
  {
   "cell_type": "code",
   "execution_count": 2,
   "id": "43c55cec-0251-41fb-bfdf-7b1d238ab999",
   "metadata": {},
   "outputs": [
    {
     "name": "stdout",
     "output_type": "stream",
     "text": [
      "shape: (505, 1254)\n"
     ]
    },
    {
     "data": {
      "text/html": [
       "<div>\n",
       "<style scoped>\n",
       "    .dataframe tbody tr th:only-of-type {\n",
       "        vertical-align: middle;\n",
       "    }\n",
       "\n",
       "    .dataframe tbody tr th {\n",
       "        vertical-align: top;\n",
       "    }\n",
       "\n",
       "    .dataframe thead th {\n",
       "        text-align: right;\n",
       "    }\n",
       "</style>\n",
       "<table border=\"1\" class=\"dataframe\">\n",
       "  <thead>\n",
       "    <tr style=\"text-align: right;\">\n",
       "      <th></th>\n",
       "      <th>vehicle_id</th>\n",
       "      <th>ego_veh_overtakes_other</th>\n",
       "      <th>ego_veh_overtaken_by_other</th>\n",
       "      <th>vehicle_type</th>\n",
       "      <th>t1</th>\n",
       "      <th>s1</th>\n",
       "      <th>a1</th>\n",
       "      <th>d1</th>\n",
       "      <th>v1</th>\n",
       "      <th>t2</th>\n",
       "      <th>...</th>\n",
       "      <th>t249</th>\n",
       "      <th>s249</th>\n",
       "      <th>a249</th>\n",
       "      <th>d249</th>\n",
       "      <th>v249</th>\n",
       "      <th>t250</th>\n",
       "      <th>s250</th>\n",
       "      <th>a250</th>\n",
       "      <th>d250</th>\n",
       "      <th>v250</th>\n",
       "    </tr>\n",
       "  </thead>\n",
       "  <tbody>\n",
       "    <tr>\n",
       "      <th>0</th>\n",
       "      <td>30</td>\n",
       "      <td>Y</td>\n",
       "      <td>N</td>\n",
       "      <td>Seat Leon</td>\n",
       "      <td>NaN</td>\n",
       "      <td>NaN</td>\n",
       "      <td>NaN</td>\n",
       "      <td>NaN</td>\n",
       "      <td>NaN</td>\n",
       "      <td>NaN</td>\n",
       "      <td>...</td>\n",
       "      <td>1.687391e+09</td>\n",
       "      <td>L</td>\n",
       "      <td>163.618163</td>\n",
       "      <td>7.944192</td>\n",
       "      <td>-8.369957</td>\n",
       "      <td>1.687391e+09</td>\n",
       "      <td>L</td>\n",
       "      <td>164.704145</td>\n",
       "      <td>8.347662</td>\n",
       "      <td>-8.401554</td>\n",
       "    </tr>\n",
       "    <tr>\n",
       "      <th>1</th>\n",
       "      <td>27</td>\n",
       "      <td>Y</td>\n",
       "      <td>N</td>\n",
       "      <td>Volkswagen T2</td>\n",
       "      <td>NaN</td>\n",
       "      <td>NaN</td>\n",
       "      <td>NaN</td>\n",
       "      <td>NaN</td>\n",
       "      <td>NaN</td>\n",
       "      <td>NaN</td>\n",
       "      <td>...</td>\n",
       "      <td>1.687391e+09</td>\n",
       "      <td>R</td>\n",
       "      <td>161.611545</td>\n",
       "      <td>8.528953</td>\n",
       "      <td>-4.206907</td>\n",
       "      <td>1.687391e+09</td>\n",
       "      <td>R</td>\n",
       "      <td>162.413108</td>\n",
       "      <td>8.722921</td>\n",
       "      <td>-4.177211</td>\n",
       "    </tr>\n",
       "    <tr>\n",
       "      <th>2</th>\n",
       "      <td>27</td>\n",
       "      <td>N</td>\n",
       "      <td>Y</td>\n",
       "      <td>Volkswagen T2</td>\n",
       "      <td>NaN</td>\n",
       "      <td>NaN</td>\n",
       "      <td>NaN</td>\n",
       "      <td>NaN</td>\n",
       "      <td>NaN</td>\n",
       "      <td>NaN</td>\n",
       "      <td>...</td>\n",
       "      <td>1.687391e+09</td>\n",
       "      <td>R</td>\n",
       "      <td>21.311273</td>\n",
       "      <td>9.286888</td>\n",
       "      <td>2.630563</td>\n",
       "      <td>1.687391e+09</td>\n",
       "      <td>R</td>\n",
       "      <td>20.161771</td>\n",
       "      <td>9.784289</td>\n",
       "      <td>2.617315</td>\n",
       "    </tr>\n",
       "    <tr>\n",
       "      <th>3</th>\n",
       "      <td>27</td>\n",
       "      <td>Y</td>\n",
       "      <td>N</td>\n",
       "      <td>Volkswagen T2</td>\n",
       "      <td>NaN</td>\n",
       "      <td>NaN</td>\n",
       "      <td>NaN</td>\n",
       "      <td>NaN</td>\n",
       "      <td>NaN</td>\n",
       "      <td>NaN</td>\n",
       "      <td>...</td>\n",
       "      <td>1.687391e+09</td>\n",
       "      <td>R</td>\n",
       "      <td>153.736123</td>\n",
       "      <td>10.309084</td>\n",
       "      <td>-4.720090</td>\n",
       "      <td>1.687391e+09</td>\n",
       "      <td>R</td>\n",
       "      <td>153.520792</td>\n",
       "      <td>11.149581</td>\n",
       "      <td>-4.539961</td>\n",
       "    </tr>\n",
       "    <tr>\n",
       "      <th>4</th>\n",
       "      <td>26</td>\n",
       "      <td>Y</td>\n",
       "      <td>N</td>\n",
       "      <td>Diamondback Century</td>\n",
       "      <td>NaN</td>\n",
       "      <td>NaN</td>\n",
       "      <td>NaN</td>\n",
       "      <td>NaN</td>\n",
       "      <td>NaN</td>\n",
       "      <td>NaN</td>\n",
       "      <td>...</td>\n",
       "      <td>1.687391e+09</td>\n",
       "      <td>R</td>\n",
       "      <td>163.206761</td>\n",
       "      <td>8.610647</td>\n",
       "      <td>-5.929351</td>\n",
       "      <td>1.687391e+09</td>\n",
       "      <td>R</td>\n",
       "      <td>164.210856</td>\n",
       "      <td>9.176173</td>\n",
       "      <td>-5.894443</td>\n",
       "    </tr>\n",
       "  </tbody>\n",
       "</table>\n",
       "<p>5 rows × 1254 columns</p>\n",
       "</div>"
      ],
      "text/plain": [
       "   vehicle_id ego_veh_overtakes_other ego_veh_overtaken_by_other  \\\n",
       "0          30                       Y                          N   \n",
       "1          27                       Y                          N   \n",
       "2          27                       N                          Y   \n",
       "3          27                       Y                          N   \n",
       "4          26                       Y                          N   \n",
       "\n",
       "          vehicle_type  t1   s1  a1  d1  v1  t2  ...          t249  s249  \\\n",
       "0            Seat Leon NaN  NaN NaN NaN NaN NaN  ...  1.687391e+09     L   \n",
       "1        Volkswagen T2 NaN  NaN NaN NaN NaN NaN  ...  1.687391e+09     R   \n",
       "2        Volkswagen T2 NaN  NaN NaN NaN NaN NaN  ...  1.687391e+09     R   \n",
       "3        Volkswagen T2 NaN  NaN NaN NaN NaN NaN  ...  1.687391e+09     R   \n",
       "4  Diamondback Century NaN  NaN NaN NaN NaN NaN  ...  1.687391e+09     R   \n",
       "\n",
       "         a249       d249      v249          t250  s250        a250       d250  \\\n",
       "0  163.618163   7.944192 -8.369957  1.687391e+09     L  164.704145   8.347662   \n",
       "1  161.611545   8.528953 -4.206907  1.687391e+09     R  162.413108   8.722921   \n",
       "2   21.311273   9.286888  2.630563  1.687391e+09     R   20.161771   9.784289   \n",
       "3  153.736123  10.309084 -4.720090  1.687391e+09     R  153.520792  11.149581   \n",
       "4  163.206761   8.610647 -5.929351  1.687391e+09     R  164.210856   9.176173   \n",
       "\n",
       "       v250  \n",
       "0 -8.401554  \n",
       "1 -4.177211  \n",
       "2  2.617315  \n",
       "3 -4.539961  \n",
       "4 -5.894443  \n",
       "\n",
       "[5 rows x 1254 columns]"
      ]
     },
     "execution_count": 2,
     "metadata": {},
     "output_type": "execute_result"
    }
   ],
   "source": [
    "# import scenario dataset\n",
    "df1 = pd.read_csv('output_file-overtakes.csv')\n",
    "print(\"shape:\", df1.shape)\n",
    "df1.head()"
   ]
  },
  {
   "cell_type": "code",
   "execution_count": 3,
   "id": "879fd0f1-2c24-47b7-b473-c38314e3eee1",
   "metadata": {},
   "outputs": [
    {
     "name": "stdout",
     "output_type": "stream",
     "text": [
      "shape: (16497, 1254)\n"
     ]
    },
    {
     "data": {
      "text/html": [
       "<div>\n",
       "<style scoped>\n",
       "    .dataframe tbody tr th:only-of-type {\n",
       "        vertical-align: middle;\n",
       "    }\n",
       "\n",
       "    .dataframe tbody tr th {\n",
       "        vertical-align: top;\n",
       "    }\n",
       "\n",
       "    .dataframe thead th {\n",
       "        text-align: right;\n",
       "    }\n",
       "</style>\n",
       "<table border=\"1\" class=\"dataframe\">\n",
       "  <thead>\n",
       "    <tr style=\"text-align: right;\">\n",
       "      <th></th>\n",
       "      <th>vehicle_id</th>\n",
       "      <th>ego_veh_overtakes_other</th>\n",
       "      <th>ego_veh_overtaken_by_other</th>\n",
       "      <th>vehicle_type</th>\n",
       "      <th>t250</th>\n",
       "      <th>s250</th>\n",
       "      <th>a250</th>\n",
       "      <th>d250</th>\n",
       "      <th>v250</th>\n",
       "      <th>t249</th>\n",
       "      <th>...</th>\n",
       "      <th>t2</th>\n",
       "      <th>s2</th>\n",
       "      <th>a2</th>\n",
       "      <th>d2</th>\n",
       "      <th>v2</th>\n",
       "      <th>t1</th>\n",
       "      <th>s1</th>\n",
       "      <th>a1</th>\n",
       "      <th>d1</th>\n",
       "      <th>v1</th>\n",
       "    </tr>\n",
       "  </thead>\n",
       "  <tbody>\n",
       "    <tr>\n",
       "      <th>0</th>\n",
       "      <td>29</td>\n",
       "      <td>N</td>\n",
       "      <td>N</td>\n",
       "      <td>Lincoln Mkz 2017</td>\n",
       "      <td>1.688947e+09</td>\n",
       "      <td>L</td>\n",
       "      <td>0.329167</td>\n",
       "      <td>15.778938</td>\n",
       "      <td>-0.702104</td>\n",
       "      <td>1.688947e+09</td>\n",
       "      <td>...</td>\n",
       "      <td>NaN</td>\n",
       "      <td>NaN</td>\n",
       "      <td>NaN</td>\n",
       "      <td>NaN</td>\n",
       "      <td>NaN</td>\n",
       "      <td>NaN</td>\n",
       "      <td>NaN</td>\n",
       "      <td>NaN</td>\n",
       "      <td>NaN</td>\n",
       "      <td>NaN</td>\n",
       "    </tr>\n",
       "    <tr>\n",
       "      <th>1</th>\n",
       "      <td>29</td>\n",
       "      <td>N</td>\n",
       "      <td>N</td>\n",
       "      <td>Lincoln Mkz 2017</td>\n",
       "      <td>1.688947e+09</td>\n",
       "      <td>L</td>\n",
       "      <td>0.329167</td>\n",
       "      <td>15.778938</td>\n",
       "      <td>-0.702104</td>\n",
       "      <td>1.688947e+09</td>\n",
       "      <td>...</td>\n",
       "      <td>NaN</td>\n",
       "      <td>NaN</td>\n",
       "      <td>NaN</td>\n",
       "      <td>NaN</td>\n",
       "      <td>NaN</td>\n",
       "      <td>NaN</td>\n",
       "      <td>NaN</td>\n",
       "      <td>NaN</td>\n",
       "      <td>NaN</td>\n",
       "      <td>NaN</td>\n",
       "    </tr>\n",
       "    <tr>\n",
       "      <th>2</th>\n",
       "      <td>29</td>\n",
       "      <td>N</td>\n",
       "      <td>N</td>\n",
       "      <td>Lincoln Mkz 2017</td>\n",
       "      <td>1.688947e+09</td>\n",
       "      <td>L</td>\n",
       "      <td>0.375836</td>\n",
       "      <td>15.739118</td>\n",
       "      <td>-0.851417</td>\n",
       "      <td>1.688947e+09</td>\n",
       "      <td>...</td>\n",
       "      <td>NaN</td>\n",
       "      <td>NaN</td>\n",
       "      <td>NaN</td>\n",
       "      <td>NaN</td>\n",
       "      <td>NaN</td>\n",
       "      <td>NaN</td>\n",
       "      <td>NaN</td>\n",
       "      <td>NaN</td>\n",
       "      <td>NaN</td>\n",
       "      <td>NaN</td>\n",
       "    </tr>\n",
       "    <tr>\n",
       "      <th>3</th>\n",
       "      <td>29</td>\n",
       "      <td>N</td>\n",
       "      <td>N</td>\n",
       "      <td>Lincoln Mkz 2017</td>\n",
       "      <td>1.688947e+09</td>\n",
       "      <td>L</td>\n",
       "      <td>0.375836</td>\n",
       "      <td>15.739118</td>\n",
       "      <td>-0.851417</td>\n",
       "      <td>1.688947e+09</td>\n",
       "      <td>...</td>\n",
       "      <td>NaN</td>\n",
       "      <td>NaN</td>\n",
       "      <td>NaN</td>\n",
       "      <td>NaN</td>\n",
       "      <td>NaN</td>\n",
       "      <td>NaN</td>\n",
       "      <td>NaN</td>\n",
       "      <td>NaN</td>\n",
       "      <td>NaN</td>\n",
       "      <td>NaN</td>\n",
       "    </tr>\n",
       "    <tr>\n",
       "      <th>4</th>\n",
       "      <td>29</td>\n",
       "      <td>N</td>\n",
       "      <td>N</td>\n",
       "      <td>Lincoln Mkz 2017</td>\n",
       "      <td>1.688947e+09</td>\n",
       "      <td>L</td>\n",
       "      <td>0.420837</td>\n",
       "      <td>15.696234</td>\n",
       "      <td>-0.851373</td>\n",
       "      <td>1.688947e+09</td>\n",
       "      <td>...</td>\n",
       "      <td>NaN</td>\n",
       "      <td>NaN</td>\n",
       "      <td>NaN</td>\n",
       "      <td>NaN</td>\n",
       "      <td>NaN</td>\n",
       "      <td>NaN</td>\n",
       "      <td>NaN</td>\n",
       "      <td>NaN</td>\n",
       "      <td>NaN</td>\n",
       "      <td>NaN</td>\n",
       "    </tr>\n",
       "  </tbody>\n",
       "</table>\n",
       "<p>5 rows × 1254 columns</p>\n",
       "</div>"
      ],
      "text/plain": [
       "   vehicle_id ego_veh_overtakes_other ego_veh_overtaken_by_other  \\\n",
       "0          29                       N                          N   \n",
       "1          29                       N                          N   \n",
       "2          29                       N                          N   \n",
       "3          29                       N                          N   \n",
       "4          29                       N                          N   \n",
       "\n",
       "       vehicle_type          t250 s250      a250       d250      v250  \\\n",
       "0  Lincoln Mkz 2017  1.688947e+09    L  0.329167  15.778938 -0.702104   \n",
       "1  Lincoln Mkz 2017  1.688947e+09    L  0.329167  15.778938 -0.702104   \n",
       "2  Lincoln Mkz 2017  1.688947e+09    L  0.375836  15.739118 -0.851417   \n",
       "3  Lincoln Mkz 2017  1.688947e+09    L  0.375836  15.739118 -0.851417   \n",
       "4  Lincoln Mkz 2017  1.688947e+09    L  0.420837  15.696234 -0.851373   \n",
       "\n",
       "           t249  ...  t2   s2  a2  d2  v2  t1   s1  a1  d1  v1  \n",
       "0  1.688947e+09  ... NaN  NaN NaN NaN NaN NaN  NaN NaN NaN NaN  \n",
       "1  1.688947e+09  ... NaN  NaN NaN NaN NaN NaN  NaN NaN NaN NaN  \n",
       "2  1.688947e+09  ... NaN  NaN NaN NaN NaN NaN  NaN NaN NaN NaN  \n",
       "3  1.688947e+09  ... NaN  NaN NaN NaN NaN NaN  NaN NaN NaN NaN  \n",
       "4  1.688947e+09  ... NaN  NaN NaN NaN NaN NaN  NaN NaN NaN NaN  \n",
       "\n",
       "[5 rows x 1254 columns]"
      ]
     },
     "execution_count": 3,
     "metadata": {},
     "output_type": "execute_result"
    }
   ],
   "source": [
    "# import no-scenario dataset\n",
    "df2 = pd.read_csv('output_file-no_scenarios.csv')\n",
    "print(\"shape:\", df2.shape)\n",
    "df2.head()"
   ]
  },
  {
   "cell_type": "code",
   "execution_count": 4,
   "id": "595cabfa-a17c-421d-84b4-02edb67ed0fc",
   "metadata": {},
   "outputs": [],
   "source": [
    "def reorder_cols(dataframe):\n",
    "    col_indicators = ['t', 's', 'a', 'd', 'v']\n",
    "    new_col_headers = dataframe.columns.values.tolist()[0:4]\n",
    "\n",
    "    for ind in col_indicators:\n",
    "        for i in range(1, 250+1):\n",
    "            new_col_headers.append(ind + str(i))\n",
    "\n",
    "    return dataframe[new_col_headers]"
   ]
  },
  {
   "cell_type": "code",
   "execution_count": 5,
   "id": "84025ea7-3626-43e0-88b6-f4e557d799e9",
   "metadata": {},
   "outputs": [],
   "source": [
    "# reorder the columns of both dataframes so they are consistent\n",
    "\n",
    "df1 = reorder_cols(df1)\n",
    "df2 = reorder_cols(df2)"
   ]
  },
  {
   "cell_type": "code",
   "execution_count": 6,
   "id": "e7a606f1-6b2b-407a-8520-96e3fdfc584d",
   "metadata": {},
   "outputs": [],
   "source": [
    "# join both dataframes into a single dataframe, shuffle the rows \n",
    "# and save the resultant dataframe as a csv file.\n",
    "\n",
    "df = [df1, df2]\n",
    "df = pd.concat(df)\n",
    "\n",
    "df = df.sample(frac=1).reset_index(drop=True)\n",
    "df.to_csv(\"output_file.csv\", encoding='utf-8', index=False)"
   ]
  },
  {
   "cell_type": "code",
   "execution_count": 7,
   "id": "f89f0eac-eae8-46aa-a6ea-c02de4b6a8f3",
   "metadata": {},
   "outputs": [
    {
     "name": "stdout",
     "output_type": "stream",
     "text": [
      "shape: (17002, 1254)\n"
     ]
    }
   ],
   "source": [
    "# load joined dataframe from file\n",
    "\n",
    "df = pd.read_csv('output_file.csv')\n",
    "print(\"shape:\", df.shape)"
   ]
  },
  {
   "cell_type": "markdown",
   "id": "0b89381a-9b6a-4692-a4af-b7ad444e4cb6",
   "metadata": {},
   "source": [
    "# **Data Investigation**"
   ]
  },
  {
   "cell_type": "markdown",
   "id": "f304567d-9520-49ed-b5a2-03bf91681669",
   "metadata": {},
   "source": [
    "column names:<br>\n",
    ">vehicle_id = identifier assigned to vehicle by carla (int)<br>\n",
    "overtakes = ego vehicle overtakes other vehicle (Y/N)<br>\n",
    "overtaken = ego vehicle is overtaken by other vehicle (Y/N)<br>\n",
    "vehicle_type = name of vehicle (string)<br>\n",
    "t1-250 = timestamp (float: epoch)<br>\n",
    "s1-250 = side of ego vehicle (char : L/R)<br>\n",
    "a1-250 = angle from center front of ego vehicle (float : -180 to 180)<br>\n",
    "d1-250 = distance in meters from ego vehicle (float)<br>\n",
    "v1-250 = velocity delta between the two vehicles (float)"
   ]
  },
  {
   "cell_type": "markdown",
   "id": "90fcc7bf-f5cd-4627-a847-44b7ab38cbc7",
   "metadata": {},
   "source": [
    "# **Data cleaning**"
   ]
  },
  {
   "cell_type": "markdown",
   "id": "dd86da10-8fce-4bcc-a109-c130cbcbd8e3",
   "metadata": {},
   "source": [
    "#### **Drop unnecessary columns**\n",
    "unnecessary columns: ['vehicle_id', 'vehicle_type', 't1' ... 't250', 's1' ... 's250']\n",
    "The vehicle_id and the vehicle_type do not contain any information that would help the prediction of the target value and should therefor be removed. The 's' columns indicating the side that the vehicle is on relative to the ego vehicle is unnecessary because this information is captured in the 'a' column (angle from center front of ego vehicle), the angle being positive or negative will indicate side. The 't' columns are unnecessary as the data is passed to the model in a ordered format. "
   ]
  },
  {
   "cell_type": "code",
   "execution_count": 8,
   "id": "dc604634-8986-41cd-9c07-4150d82a58f1",
   "metadata": {},
   "outputs": [],
   "source": [
    "def drop_columns(dataframe, singular_columns=None, \n",
    "                 timeseries_columns=None, number_to_drop=250):\n",
    "    cols_to_delete = []\n",
    "\n",
    "    if singular_columns:\n",
    "        cols_to_delete = singular_columns\n",
    "    \n",
    "    if timeseries_columns:        \n",
    "        for ind in timeseries_columns:\n",
    "            for i in range(1, number_to_drop+1):\n",
    "                cols_to_delete.append(ind + str(i))\n",
    "\n",
    "    return dataframe.drop(cols_to_delete, axis=1)"
   ]
  },
  {
   "cell_type": "code",
   "execution_count": 9,
   "id": "0de79e5f-f2a8-4e02-9720-0ff4be257c11",
   "metadata": {},
   "outputs": [
    {
     "name": "stdout",
     "output_type": "stream",
     "text": [
      "Number of columns in dataframe before columns dropped: 1254\n",
      "Number of columns in dataframe after columns dropped: 752\n"
     ]
    }
   ],
   "source": [
    "regular_columns_to_drop = [\"vehicle_id\", \"vehicle_type\"]\n",
    "timeseries_columns_to_drop = ['t', 's']\n",
    "\n",
    "print(\"Number of columns in dataframe before columns dropped:\", df.shape[1])\n",
    "df = drop_columns(df, regular_columns_to_drop, timeseries_columns_to_drop)\n",
    "print(\"Number of columns in dataframe after columns dropped:\", df.shape[1])"
   ]
  },
  {
   "cell_type": "markdown",
   "id": "8308b6e7-eb92-4f68-9748-5c1a489b7636",
   "metadata": {},
   "source": [
    "Rename target columns"
   ]
  },
  {
   "cell_type": "code",
   "execution_count": 10,
   "id": "082549b9-994d-434b-8c32-3de6dd9f55bc",
   "metadata": {},
   "outputs": [],
   "source": [
    "df = df.rename(columns={'ego_veh_overtakes_other': \"overtakes\", \n",
    "                        'ego_veh_overtaken_by_other': \"overtaken\"})"
   ]
  },
  {
   "cell_type": "markdown",
   "id": "f3207030-e540-409a-897f-b68e6472d12a",
   "metadata": {},
   "source": [
    "### **Change datatypes**\n",
    "Change the 'overtakes' and 'overtaken' to boolean values"
   ]
  },
  {
   "cell_type": "code",
   "execution_count": 11,
   "id": "9499a30c-1a1a-4b6d-adff-8819846e14a0",
   "metadata": {},
   "outputs": [],
   "source": [
    "df['overtakes_bool'] = 0\n",
    "df['overtaken_bool'] = 0\n",
    "\n",
    "df.loc[df.overtakes == \"Y\", \"overtakes_bool\"] = 1\n",
    "df.loc[df.overtaken == \"Y\", \"overtaken_bool\"] = 1\n",
    "\n",
    "df = df.drop([\"overtakes\", \"overtaken\"], axis=1)\n",
    "df = df.rename(columns={\"overtakes_bool\": \"overtakes\", \n",
    "                        \"overtaken_bool\": \"overtaken\"})"
   ]
  },
  {
   "cell_type": "code",
   "execution_count": 12,
   "id": "2dd550cb-3427-490d-898d-a902c2850a7b",
   "metadata": {},
   "outputs": [
    {
     "name": "stdout",
     "output_type": "stream",
     "text": [
      "overtakes sum: 299\n",
      "overtaken sum: 206\n"
     ]
    }
   ],
   "source": [
    "print(\"overtakes sum:\", df['overtakes'].sum())\n",
    "print(\"overtaken sum:\", df['overtaken'].sum())"
   ]
  },
  {
   "cell_type": "markdown",
   "id": "49389107-b79d-4ce8-a3b7-3785b06646af",
   "metadata": {},
   "source": [
    "# Data Visulization"
   ]
  },
  {
   "cell_type": "code",
   "execution_count": 13,
   "id": "12ee0f12-ceef-47e5-9aa6-4f74b0961761",
   "metadata": {},
   "outputs": [],
   "source": [
    "def NormalizeData(data, limit):\n",
    "    start = 0\n",
    "    end = limit\n",
    "    width = end - start\n",
    "    return (data - np.min(data)) / (np.max(data) - np.min(data)) * width + start\n",
    "\n",
    "def get_cols_as_lists(sample_row):\n",
    "    a = []\n",
    "    v = []\n",
    "    d = []\n",
    "\n",
    "    for i in range(1, int((sample_row.shape[1] -2) /3) +1):\n",
    "        if not math.isnan(sample_row.at[0, \"a\" + str(i)]):\n",
    "            a.append(sample_row.at[0, \"a\" + str(i)])\n",
    "            v.append(sample_row.at[0, \"v\" + str(i)])\n",
    "            d.append(sample_row.at[0, \"d\" + str(i)])\n",
    "    \n",
    "    return a, v, NormalizeData(d, 50)\n",
    "\n",
    "def graph_6_example_rows(dataframe):\n",
    "\n",
    "    cols = 3\n",
    "    rows = 2\n",
    "\n",
    "    fig, axs = plt.subplots(rows, cols, figsize=(12, 10))\n",
    "\n",
    "    for r in range(rows):\n",
    "        for c in range(cols):\n",
    "            if c == 0:      \n",
    "                sample = dataframe[(dataframe['overtakes'] > 0)].sample(n=1)\n",
    "                title = 'ego vehicle overtakes other\\nrow: ' + str(sample.iloc[0].name) if r == 0 else 'row: ' + str(sample.iloc[0].name)\n",
    "            if c == 1:\n",
    "                sample = dataframe[(dataframe['overtaken'] > 0)].sample(n=1)\n",
    "                title = 'ego vehicle is overtaken by other\\nrow: ' + str(sample.iloc[0].name) if r == 0 else 'row: ' + str(sample.iloc[0].name)\n",
    "            if c == 2:\n",
    "                sample = dataframe[(dataframe['overtakes'] < 1) & (dataframe['overtaken'] < 1)].sample(n=1)\n",
    "                title = 'No scenario\\nrow: ' + str(sample.iloc[0].name) if r == 0 else 'row: ' + str(sample.iloc[0].name)\n",
    "\n",
    "            axs[r, c].set_title(title)    \n",
    "            sample_idx = sample.iloc[0].name\n",
    "            sample.reset_index(drop=True, inplace=True)        \n",
    "            a, v, d = get_cols_as_lists(sample)\n",
    "        \n",
    "            if c == 0:\n",
    "                for idx in range(len(a) -1, -1, -1):\n",
    "                    if (a[idx] < 75) and (d[idx] > (0.2 * a[idx]) + 5):\n",
    "                        axs[r, c].axvspan(idx, 0, alpha=0.1, color='tan', label=\"ego behind\")\n",
    "                        break\n",
    "                for idx in range(len(a)):\n",
    "                    if (a[idx] > 105) and (d[idx] > (-0.2 * a[idx]) + 41):\n",
    "                        axs[r, c].axvspan(idx, len(a), alpha=0.1, color='limegreen', label=\"ego ahead\")\n",
    "                        break\n",
    "\n",
    "            if c == 1:\n",
    "                for idx in range(len(a)):\n",
    "                    if (a[idx] < 75) and (d[idx] > (0.2 * a[idx]) + 5):\n",
    "                        axs[r, c].axvspan(idx, len(a), alpha=0.1, color='tan', label=\"ego behind\")\n",
    "                        break  \n",
    "                for idx in range(len(a) -1, -1, -1):\n",
    "                    if (a[idx] > 105) and (d[idx] > (-0.2 * a[idx]) + 41):\n",
    "                        axs[r, c].axvspan(idx, 0, alpha=0.1, color='limegreen', label=\"ego ahead\")\n",
    "                        break\n",
    "        \n",
    "            axs[r, c].plot(a, label=\"angle\")\n",
    "            axs[r, c].plot(v, label=\"speed delta\")\n",
    "            axs[r, c].plot(d, label=\"distance\")\n",
    "            axs[r, c].set_ylim([-20, 180])\n",
    "\n",
    "            if r == 0 and c == 0:\n",
    "                axs[r, c].legend()\n",
    "\n",
    "    for ax in axs.flat:\n",
    "        ax.set(xlabel='time', ylabel='y-label')\n",
    "\n",
    "    for ax in axs.flat:\n",
    "        ax.label_outer()"
   ]
  },
  {
   "cell_type": "code",
   "execution_count": 14,
   "id": "179c7979-4cb4-4e07-aa89-bbb8e8439f96",
   "metadata": {},
   "outputs": [
    {
     "data": {
      "image/png": "[encoded data removed]",
      "text/plain": [
       "<Figure size 1200x1000 with 6 Axes>"
      ]
     },
     "metadata": {},
     "output_type": "display_data"
    }
   ],
   "source": [
    "graph_6_example_rows(df)"
   ]
  },
  {
   "cell_type": "markdown",
   "id": "4c529382-a526-4cf8-8f91-f7e3ce0dbdc7",
   "metadata": {},
   "source": [
    "### **Dealing with null values**"
   ]
  },
  {
   "cell_type": "markdown",
   "id": "d2e3dcd7-5248-4b58-a357-8666e4d5affa",
   "metadata": {},
   "source": [
    "Visualize the distribution of nan values in the dataset"
   ]
  },
  {
   "cell_type": "code",
   "execution_count": 15,
   "id": "00f880b1-c2d1-40fd-ab58-5f4256bbe437",
   "metadata": {},
   "outputs": [
    {
     "name": "stdout",
     "output_type": "stream",
     "text": [
      "(17002, 752)\n"
     ]
    },
    {
     "data": {
      "image/png": "[encoded data removed]",
      "text/plain": [
       "<Figure size 600x500 with 1 Axes>"
      ]
     },
     "metadata": {},
     "output_type": "display_data"
    }
   ],
   "source": [
    "print(df.shape)\n",
    "\n",
    "figure = plt.figure(figsize =(6, 5))  \n",
    "plt.boxplot([x//3 for x in df.isnull().sum(axis=1)])\n",
    "plt.show()"
   ]
  },
  {
   "cell_type": "markdown",
   "id": "9d6065ed-6c92-472f-aebf-b83152d7e15d",
   "metadata": {},
   "source": [
    "First we drop any column that has more than 200 nan values per timeseries column type, as a minimum of 50 timesteps for angle, distance, and velocity_delta are required. "
   ]
  },
  {
   "cell_type": "code",
   "execution_count": 16,
   "id": "7742d6d9-784e-4f02-940a-6bee40c837a3",
   "metadata": {},
   "outputs": [
    {
     "name": "stdout",
     "output_type": "stream",
     "text": [
      "The number of rows with more than 200 nans: 6\n"
     ]
    }
   ],
   "source": [
    "nans = [x//3 for x in df.isnull().sum(axis=1)]\n",
    "max_no_nans_allowed = 200\n",
    "\n",
    "count = len([i for i in nans if i > max_no_nans_allowed])\n",
    "print(\"The number of rows with more than \" + str(max_no_nans_allowed) + \" nans: \" + str(count))"
   ]
  },
  {
   "cell_type": "code",
   "execution_count": 17,
   "id": "555ed22c-2455-459d-9126-3ada69f58276",
   "metadata": {},
   "outputs": [
    {
     "name": "stdout",
     "output_type": "stream",
     "text": [
      "[3020, 1086, 8784, 9238, 2306, 10343]\n"
     ]
    }
   ],
   "source": [
    "nans_sorted_indexes = sorted(range(len(nans)), key=lambda k: nans[k])\n",
    "\n",
    "delete_index_list = []\n",
    "\n",
    "for i in range(-1, -len(nans_sorted_indexes), -1):\n",
    "    index = nans_sorted_indexes[i]\n",
    "    if df.iloc[[index]].isna().sum().sum() /3 > max_no_nans_allowed:\n",
    "        delete_index_list.append(index)\n",
    "    else:\n",
    "        break\n",
    "            \n",
    "print(delete_index_list)"
   ]
  },
  {
   "cell_type": "code",
   "execution_count": 18,
   "id": "b67f015c-aad8-45d9-9f4d-099f85216c2a",
   "metadata": {},
   "outputs": [
    {
     "name": "stdout",
     "output_type": "stream",
     "text": [
      "The number of rows with more than 200 nans: 0\n"
     ]
    }
   ],
   "source": [
    "df = df.drop(index=delete_index_list)\n",
    "df.reset_index(drop=True, inplace=True)\n",
    "\n",
    "nans = [x//3 for x in df.isnull().sum(axis=1)]\n",
    "count = len([i for i in nans if i > max_no_nans_allowed])\n",
    "print(\"The number of rows with more than \" + str(max_no_nans_allowed) + \" nans: \" + str(count))"
   ]
  },
  {
   "cell_type": "code",
   "execution_count": 19,
   "id": "6e38f237-07f5-4872-92c3-221f8032a3da",
   "metadata": {},
   "outputs": [
    {
     "data": {
      "image/png": "[encoded data removed]",
      "text/plain": [
       "<Figure size 600x500 with 1 Axes>"
      ]
     },
     "metadata": {},
     "output_type": "display_data"
    }
   ],
   "source": [
    "figure = plt.figure(figsize =(6, 5))  \n",
    "plt.boxplot([x//3 for x in df.isnull().sum(axis=1)])\n",
    "plt.show()"
   ]
  },
  {
   "cell_type": "markdown",
   "id": "622ffd47-af28-4548-97b3-4e8fdb8e4e4d",
   "metadata": {},
   "source": [
    "# Make number of timesteps consistent"
   ]
  },
  {
   "cell_type": "markdown",
   "id": "c69e5e56-d795-43f4-9ac3-428e20ccc097",
   "metadata": {},
   "source": [
    "Regarding the timeseries features (angle from center, velocity delta, distance), many of these have an inconsistent number of timesteps across the rows in the dataset, as can seen by the number of nan values they contain. In order to make this consistant for each row we will draw a line intercepting each point (as in a line graph) then divide the x asis into a consistent number and determine a new y values based on the intercept with the line. We thereby generate a consistent number of points representing each overtake scenario which can be passed to the model. Something to note, although the number of timesteps is now consistent between rows the timestep duration is not."
   ]
  },
  {
   "cell_type": "code",
   "execution_count": 20,
   "id": "51597e03-e929-449c-b2c0-d00212aaf2a1",
   "metadata": {},
   "outputs": [],
   "source": [
    "def delete_last_n_timesteps(dataframe, feature_indicators, number_of_steps_to_delete):\n",
    "    cols_to_delete = []\n",
    "    \n",
    "    for indicator in feature_indicators:\n",
    "        for i in range(int((dataframe.shape[1] -2) /3), int((dataframe.shape[1] -2) /3) -number_of_steps_to_delete, -1):\n",
    "            cols_to_delete.append(indicator + str(i))\n",
    "    \n",
    "    dataframe = dataframe.drop(cols_to_delete, axis=1)\n",
    "        \n",
    "    return dataframe"
   ]
  },
  {
   "cell_type": "code",
   "execution_count": 21,
   "id": "93be3ae7-64de-4292-a2ef-03c4f6017879",
   "metadata": {},
   "outputs": [],
   "source": [
    "def regularize_feature_timesteps(dataframe, no_of_timesteps, feature_indicators):\n",
    "    timeseries_features = [[],[],[]]\n",
    "\n",
    "    for idx, indicator in enumerate(feature_indicators):\n",
    "        for i in range(1, int((dataframe.shape[1] -2) /3) +1):\n",
    "            timeseries_features[idx].append(indicator + str(i))\n",
    "        \n",
    "    for row_idx in range(dataframe.shape[0]):\n",
    "        print(str(row_idx) + \"/\" + str(dataframe.shape[0]), end = \"\\r\")\n",
    "    \n",
    "        for feat_idx, timeseries_feature in enumerate(timeseries_features):        \n",
    "            y = dataframe.loc[row_idx, timeseries_feature].to_numpy()\n",
    "            y = y[np.logical_not(np.isnan(y))]\n",
    "            x = [*range(1, len(y) +1)]\n",
    "            intercept_increment = len(y) / (no_of_timesteps -1)\n",
    "\n",
    "            for i in range(no_of_timesteps):\n",
    "                dataframe.at[row_idx, feature_indicators[feat_idx] + str(i + 1)] = np.interp(intercept_increment * i, x, y)\n",
    "            \n",
    "    dataframe = delete_last_n_timesteps(dataframe, feature_indicators, 250 - no_of_timesteps)\n",
    "        \n",
    "    return dataframe"
   ]
  },
  {
   "cell_type": "code",
   "execution_count": 22,
   "id": "835408d2-af4b-4442-bf29-15baed0bcdfb",
   "metadata": {},
   "outputs": [
    {
     "name": "stdout",
     "output_type": "stream",
     "text": [
      "16995/16996\r"
     ]
    }
   ],
   "source": [
    "reduce_to_n_timesteps = 100\n",
    "\n",
    "df = regularize_feature_timesteps(df, reduce_to_n_timesteps, [\"a\", \"d\", \"v\"])"
   ]
  },
  {
   "cell_type": "code",
   "execution_count": 23,
   "id": "f844efa4-7808-4284-8aa3-a2c892f025bf",
   "metadata": {},
   "outputs": [],
   "source": [
    "df.to_csv(\"output_file_consistent.csv\", encoding='utf-8', index=False)"
   ]
  },
  {
   "cell_type": "code",
   "execution_count": 24,
   "id": "c791f9de-ba80-45be-928e-64bb67b231f3",
   "metadata": {},
   "outputs": [
    {
     "name": "stdout",
     "output_type": "stream",
     "text": [
      "shape: (16996, 302)\n"
     ]
    }
   ],
   "source": [
    "df = pd.read_csv('output_file_consistent.csv')\n",
    "print(\"shape:\", df.shape)"
   ]
  },
  {
   "cell_type": "markdown",
   "id": "dbc17bec-ca4d-424f-afc8-b1e392318c1a",
   "metadata": {},
   "source": [
    "# Data transformation\n",
    "Synthetic Minority oversampling technique (SMOTE) which attempts to balance the data set by creating synthetic instances. And train the balanced data set using any of the classification algorithm.\n",
    "In this step we identifiy the rows where an 'overtaken' scenario (ego vehicle is overtaken by another vehicle) is observed. We reverse the 'angle from center' data, flip the sign on the 'velocity delta' data, change the 'overtakes' column to '1' and the 'overtaken' column to '0', thereby creating a new row where the ego vehicle was detected overtaking another vehicle. We also perform the opposite operation on all columns where an 'overtakes' scenario was detected."
   ]
  },
  {
   "cell_type": "code",
   "execution_count": 25,
   "id": "c1813595-543d-4a70-9859-5d9f125e7cea",
   "metadata": {},
   "outputs": [
    {
     "name": "stdout",
     "output_type": "stream",
     "text": [
      "overtakes sum: 295\n",
      "overtaken sum: 204\n",
      "Ratio of overtakes to non-overtake rows 295:16701\n",
      "Overtakes as percent of total:1.74%\n"
     ]
    }
   ],
   "source": [
    "print(\"overtakes sum:\", df['overtakes'].sum())\n",
    "print(\"overtaken sum:\", df['overtaken'].sum())\n",
    "print(\"Ratio of overtakes to non-overtake rows \" + str(df['overtakes'].sum()) + \":\" + str(df.shape[0] - df['overtakes'].sum()))\n",
    "print(\"Overtakes as percent of total:\" + str(round(df['overtakes'].sum() / df.shape[0] * 100, 2)) + \"%\")"
   ]
  },
  {
   "cell_type": "code",
   "execution_count": 26,
   "id": "362a5bcf-ee10-4580-92b9-950e6fb4f3c0",
   "metadata": {},
   "outputs": [],
   "source": [
    "def transform_rows(dataframe, rows_to_transform):\n",
    "    timeseries_columns = ['a', 'v']\n",
    "    \n",
    "    for index , row in rows_to_transform.iterrows():\n",
    "        for i in range(1, 100 +1): \n",
    "            if not math.isnan(rows_to_transform.at[index, \"a\" + str(i)]):\n",
    "                rows_to_transform.at[index, \"a\" + str(i)] = 180 - rows_to_transform.at[index, \"a\" + str(i)]\n",
    "                rows_to_transform.at[index, \"v\" + str(i)] = -rows_to_transform.at[index, \"v\" + str(i)]\n",
    "        rows_to_transform.at[index, \"overtakes\"] = 1 - rows_to_transform.at[index, \"overtakes\"]\n",
    "        rows_to_transform.at[index, \"overtaken\"] = 1 - rows_to_transform.at[index, \"overtaken\"]\n",
    "\n",
    "    dataframe = pd.concat([dataframe, rows_to_transform])\n",
    "    dataframe = dataframe.sample(frac = 1)\n",
    "    dataframe.reset_index(drop=True, inplace=True)\n",
    "\n",
    "    return dataframe"
   ]
  },
  {
   "cell_type": "code",
   "execution_count": 27,
   "id": "7f18d89e-1d1f-48f1-9f9c-7e01daf25836",
   "metadata": {},
   "outputs": [
    {
     "name": "stdout",
     "output_type": "stream",
     "text": [
      "overtakes sum: 499\n",
      "overtaken sum: 703\n",
      "Overtakes as percent of total:2.82%\n"
     ]
    }
   ],
   "source": [
    "df = transform_rows(df, df[df.overtaken > 0])\n",
    "df = transform_rows(df, df[df.overtakes > 0])\n",
    "\n",
    "print(\"overtakes sum:\", df['overtakes'].sum())\n",
    "print(\"overtaken sum:\", df['overtaken'].sum())\n",
    "print(\"Overtakes as percent of total:\" + str(round(df['overtakes'].sum() / df.shape[0] * 100, 2)) + \"%\")"
   ]
  },
  {
   "cell_type": "markdown",
   "id": "ef43d493-baa6-41e0-9fbc-4d10b6b9e4e6",
   "metadata": {},
   "source": [
    "# Dealing with an imbalanced dataset"
   ]
  },
  {
   "cell_type": "markdown",
   "id": "48e2aa1e-026e-4b08-9d61-123ac1d1e713",
   "metadata": {},
   "source": [
    "As we can see currently the dataset is highly imbalanced, even after generating additional overtake rows (the prediction target) they still make up less than 3 percent of the overall dataset. This will encourage the model to be conservative and predict against the overtakes class as doing so will achieve a higher accuracy. With the dataset in its current composition if the model predicts 100 percent non-overtakes then it will achieve a 97 percent accuracy, this is clearly a problem that must be addressed. There are a few solutions to deal with this problem which we will now discuss. \n",
    "\n",
    "the ratio should be representitive\n",
    "\n",
    "**Under sampling:** Reduce the number of non-overtake rows until the dataset is balanced. If we under-sample before train-test split we will lose a significant proportion of the data, but more importantly, If the model is trained on a balanced dataset, we lose any information regarding the frequency of one class over another, and because the model is trained and evaluated on the same dataset it will probably achieve a high degree of accracy but fail to reproduce this performance on unseen data. If we undersample the data after the train-test split, the model will underfit the data because it will be trained on balanced data but validated/tested on imbalanced data.\n",
    "\n",
    "**Cross validation** Another option to address an imbalanced dataset is by means of cross validation. We should generate a number of balanced folds with an even disstribution of classes. Each fold should ensure a random selection from across the dataset. Each fold will have a similar selection from the under-represented class because there are not many examples to select from and a substantially different selection of the over-represented class.\n",
    "\n",
    "**Penelised Model** This is not a pre-processing step, this method is part of configuration of the model.\n",
    "\n",
    "Of these methods Undersampling produced the best results but as expected the accuracy reported on the test data did not translate to unseen data. The Penelised model method did show some improvement over vanilla logistic regression but the improvement was modest.\n",
    "After testing each of these methods using a logistic regression classifier I found the accuracy results were still poor. "
   ]
  },
  {
   "cell_type": "code",
   "execution_count": 28,
   "id": "044c0527-2ebf-4bd7-8533-0d2eeac9c34a",
   "metadata": {},
   "outputs": [],
   "source": [
    "# reduction_percent = 1 - (df['overtakes'].sum() / df.shape[0])\n",
    "\n",
    "# # df = df.drop(df[(df['overtakes'] < 1) & (df['overtaken'] < 1)].sample(frac=reduction_percent).index)\n",
    "# df = df.drop(df[(df['overtakes'] < 1)].sample(frac=reduction_percent).index)\n",
    "# df.reset_index(drop=True, inplace=True)\n",
    "\n",
    "# print(\"Ratio of overtakes to non-overtake rows \" + str(df['overtakes'].sum()) + \":\" + str(df.shape[0] - df['overtakes'].sum()))\n",
    "# print(\"Overtakes as percent of total:\" + str(round(df['overtakes'].sum() / df.shape[0] * 100, 2)) + \"%\")"
   ]
  },
  {
   "cell_type": "markdown",
   "id": "53cdf0ec-ea89-4a2d-b3b9-11767380e1a6",
   "metadata": {},
   "source": [
    "# Normalize data\n",
    "Because we are working with timeseries data we are normalizing across 2 dimensions, this means that the max and min values may not exist in the current row. Instead of iterating over the whole dataset a second time we obtained these values when we were making the number of timesteps consistent."
   ]
  },
  {
   "cell_type": "code",
   "execution_count": 29,
   "id": "4c4654b1-b9b8-4b53-ab6e-00dff30dc552",
   "metadata": {},
   "outputs": [],
   "source": [
    "def find_minmax_timeseries_features(dataframe, feature_indicators):\n",
    "    timeseries_features = [[],[],[]]\n",
    "    min_max_vals = [[float('inf'), -float('inf')],\n",
    "                        [float('inf'), -float('inf')],\n",
    "                        [float('inf'), -float('inf')]]\n",
    "\n",
    "    for idx, indicator in enumerate(feature_indicators):\n",
    "        for i in range(1, int((dataframe.shape[1] -2) /3) +1):\n",
    "            timeseries_features[idx].append(indicator + str(i))\n",
    "        \n",
    "    for row_idx in range(dataframe.shape[0]):\n",
    "        print(\"Finding minimum and maxiumum values: \" + str(row_idx) + \"/\" + str(dataframe.shape[0]), end = \"\\r\")\n",
    "    \n",
    "        for feat_idx, timeseries_feature in enumerate(timeseries_features):        \n",
    "            y = dataframe.loc[row_idx, timeseries_feature].to_numpy()\n",
    "\n",
    "            if np.min(y) < min_max_vals[feat_idx][0]: min_max_vals[feat_idx][0] = np.min(y)\n",
    "            if np.max(y) > min_max_vals[feat_idx][1]: min_max_vals[feat_idx][1] = np.max(y)\n",
    "    \n",
    "    return min_max_vals"
   ]
  },
  {
   "cell_type": "code",
   "execution_count": 30,
   "id": "b1affddf-a68b-4084-b99c-788e83b6f638",
   "metadata": {},
   "outputs": [],
   "source": [
    "def normalize_row(arr, target_minmax, feature_minmax):\n",
    "    norm_arr = []\n",
    "    diff = target_minmax[1] - target_minmax[0]\n",
    "    diff_arr = feature_minmax[1] - feature_minmax[0]\n",
    "    \n",
    "    for i in arr:\n",
    "        temp = (((i - feature_minmax[0]) *diff) /diff_arr) + target_minmax[0]\n",
    "        norm_arr.append(temp)\n",
    "        \n",
    "    return norm_arr"
   ]
  },
  {
   "cell_type": "code",
   "execution_count": 31,
   "id": "465bff15-8b28-4af0-b777-48d3bf2ff0af",
   "metadata": {},
   "outputs": [],
   "source": [
    "def normalize_timeseries_columns(dataframe, timeseries_column_indicators, min_max_vals):\n",
    "    timeseries_column_names = [[],[],[]]\n",
    "    \n",
    "    for idx, column_indicator in enumerate(timeseries_column_indicators):\n",
    "        for i in range(1, int((dataframe.shape[1]-2) /3) +1):\n",
    "            timeseries_column_names[idx].append(column_indicator + str(i))\n",
    "\n",
    "    for row_idx in range(df.shape[0]):  \n",
    "        print(\"Normalizing timeseries features: \" + str(row_idx) + \"/\" + str(df.shape[0]), end = \"\\r\")\n",
    "\n",
    "        for feat_idx, timeseries_feature in enumerate(timeseries_column_names):\n",
    "            norm = normalize_row(dataframe.loc[row_idx, timeseries_feature].to_numpy(), \n",
    "                             (0, 1), \n",
    "                             (min_max_vals[feat_idx][0], min_max_vals[feat_idx][1])) \n",
    "\n",
    "            for i in range(100):\n",
    "                dataframe.at[row_idx, timeseries_column_indicators[feat_idx] + str(i +1)] = norm[i]\n",
    "                \n",
    "    return dataframe"
   ]
  },
  {
   "cell_type": "code",
   "execution_count": 32,
   "id": "56f3a234-0385-4d0f-9aca-3fc6ec8c477c",
   "metadata": {},
   "outputs": [
    {
     "name": "stdout",
     "output_type": "stream",
     "text": [
      "Normalizing timeseries features: 17698/176997699\r"
     ]
    }
   ],
   "source": [
    "min_max = find_minmax_timeseries_features(df, [\"a\", \"d\", \"v\"])\n",
    "df = normalize_timeseries_columns(df, [\"a\", \"d\", \"v\"], min_max)"
   ]
  },
  {
   "cell_type": "code",
   "execution_count": 33,
   "id": "69b909d9-72d5-4dce-9a20-c21139094665",
   "metadata": {},
   "outputs": [],
   "source": [
    "df.to_csv(\"output_file_consistent_norm.csv\", encoding='utf-8', index=False)"
   ]
  },
  {
   "cell_type": "code",
   "execution_count": 34,
   "id": "8d1cc0af-0b91-4d51-9fbb-fab3c8a56293",
   "metadata": {},
   "outputs": [
    {
     "name": "stdout",
     "output_type": "stream",
     "text": [
      "shape: (17699, 302)\n"
     ]
    }
   ],
   "source": [
    "df = pd.read_csv('output_file_consistent_norm.csv')\n",
    "print(\"shape:\", df.shape)"
   ]
  },
  {
   "cell_type": "markdown",
   "id": "3c0f270b-498c-4272-aa08-3ec72479c854",
   "metadata": {},
   "source": [
    "## Principle Component Analysis\n",
    "\n",
    "justification for choosing PCA"
   ]
  },
  {
   "cell_type": "code",
   "execution_count": 35,
   "id": "9a286383-03ee-497d-992e-aa2497d9fa5c",
   "metadata": {},
   "outputs": [],
   "source": [
    "# y = df[['overtaken']].copy()\n",
    "y = df[['overtakes']].copy()\n",
    "X = df.drop([\"overtakes\", \"overtaken\"], axis=1)"
   ]
  },
  {
   "cell_type": "code",
   "execution_count": 36,
   "id": "023d8790-f26d-4ba6-846f-1439a05ca16c",
   "metadata": {},
   "outputs": [],
   "source": [
    "# Splitting the X and Y into the\n",
    "# Training set and Testing set\n",
    "X_train, X_test, y_train, y_test = train_test_split(X, y, test_size = 0.2, random_state = 0)"
   ]
  },
  {
   "cell_type": "code",
   "execution_count": 37,
   "id": "0c3ca87e-bed3-4491-a7b1-9cad32cafaa6",
   "metadata": {},
   "outputs": [],
   "source": [
    "# Applying PCA function on training\n",
    "# and testing set of X component\n",
    "\n",
    "# pca = PCA(n_components = 2)\n",
    "\n",
    "# X_train = pca.fit_transform(X_train)\n",
    "# X_test = pca.transform(X_test)\n",
    "\n",
    "# explained_variance = pca.explained_variance_ratio_\n",
    "# print(\"explained_variance:\", explained_variance)"
   ]
  },
  {
   "cell_type": "code",
   "execution_count": 38,
   "id": "0c384886-e199-41e5-a0f8-1a5b9af4e56b",
   "metadata": {},
   "outputs": [],
   "source": [
    "# Fitting Logistic Regression To the training set\n",
    "\n",
    "# overtakes_ratio = df['overtakes'].sum() / df.shape[0]\n",
    "\n",
    "# # classifier = LogisticRegression(random_state = 0, class_weight={0:overtakes_ratio, 1:1-overtakes_ratio}, max_iter = 1000)\n",
    "# classifier = LogisticRegression(random_state = 0, class_weight={0:0.03, 1:0.97}, max_iter = 1000)\n",
    "# # classifier = LogisticRegression(random_state = 0)\n",
    "\n",
    "# classifier.fit(X_train, y_train.values.ravel())"
   ]
  },
  {
   "cell_type": "code",
   "execution_count": 39,
   "id": "ac9042f2-496d-4417-b834-e5e30ded99b7",
   "metadata": {},
   "outputs": [
    {
     "name": "stdout",
     "output_type": "stream",
     "text": [
      "[[3435    0]\n",
      " [   8   97]]\n"
     ]
    }
   ],
   "source": [
    "classifier = xgb.XGBClassifier(objective=\"binary:logistic\", random_state=42)\n",
    "classifier.fit(X_train, y_train)\n",
    "\n",
    "y_pred = classifier.predict(X_test)\n",
    "\n",
    "print(confusion_matrix(y_test, y_pred))"
   ]
  },
  {
   "cell_type": "code",
   "execution_count": 40,
   "id": "7f7cde5b-ddee-4b46-a3d6-6b027e9138b5",
   "metadata": {},
   "outputs": [
    {
     "name": "stdout",
     "output_type": "stream",
     "text": [
      "105\n",
      "0.9977401129943503\n",
      "Accuracy of the XGBoost classifier on train set: 1.00\n",
      "Accuracy of the XGBoost classifier on test set: 1.00\n",
      "Recall of the XGBoost classifier on test set: 0.92\n",
      "Precision of the XGBoost classifier on test set: 1.00\n",
      "ROC/AUC of the XGBoost classifier on test set: 1.00\n"
     ]
    }
   ],
   "source": [
    "# Predicting the test set result using\n",
    "# predict function under LogisticRegression\n",
    "y_pred = classifier.predict(X_test)\n",
    "\n",
    "print(y_test['overtakes'].sum())\n",
    "\n",
    "print(accuracy_score(y_test, y_pred))\n",
    "print('Accuracy of the XGBoost classifier on train set: {:.2f}'.format(classifier.score(X_train, y_train))) \n",
    "print('Accuracy of the XGBoost classifier on test set: {:.2f}'.format(classifier.score(X_test, y_test))) \n",
    "print('Recall of the XGBoost classifier on test set: {:.2f}'.format(recall_score(y_test, y_pred))) \n",
    "print('Precision of the XGBoost classifier on test set: {:.2f}'.format(precision_score(y_test, y_pred))) \n",
    "print('ROC/AUC of the XGBoost classifier on test set: {:.2f}'.format(roc_auc_score(y_test, classifier.predict_proba(X_test)[:,1])))"
   ]
  },
  {
   "cell_type": "code",
   "execution_count": 41,
   "id": "16173f37-3890-440c-b46c-df7714bbf3cb",
   "metadata": {},
   "outputs": [
    {
     "data": {
      "image/png": "[encoded data removed]",
      "text/plain": [
       "<Figure size 640x480 with 2 Axes>"
      ]
     },
     "metadata": {},
     "output_type": "display_data"
    }
   ],
   "source": [
    "cm = confusion_matrix(y_test, y_pred)\n",
    "disp = ConfusionMatrixDisplay(cm)\n",
    "disp.plot()\n",
    "plt.show()"
   ]
  },
  {
   "cell_type": "code",
   "execution_count": 42,
   "id": "2930cd93-5f4e-407b-ad56-d879673a0818",
   "metadata": {},
   "outputs": [],
   "source": [
    "# pickle.dump(classifier, open(\"overtakes_xgb_acc99915.pickle\", \"wb\"))\n",
    "\n",
    "# loaded_model = pickle.load(open(\"overtakes_model_acc98.pickle\", \"rb\"))\n",
    "# print(loaded_model.score(X_test, y_test))\n",
    "\n",
    "# y_pred = loaded_model.predict(X_test)\n",
    "\n",
    "# print(\"number of overtakes predicted:\", np.sum(y_pred), \"of\", y_test['overtakes'].sum())\n",
    "# print(accuracy_score(y_test, y_pred))"
   ]
  }
 ],
 "metadata": {
  "kernelspec": {
   "display_name": "Python 3 (ipykernel)",
   "language": "python",
   "name": "python3"
  },
  "language_info": {
   "codemirror_mode": {
    "name": "ipython",
    "version": 3
   },
   "file_extension": ".py",
   "mimetype": "text/x-python",
   "name": "python",
   "nbconvert_exporter": "python",
   "pygments_lexer": "ipython3",
   "version": "3.10.9"
  }
 },
 "nbformat": 4,
 "nbformat_minor": 5
}
